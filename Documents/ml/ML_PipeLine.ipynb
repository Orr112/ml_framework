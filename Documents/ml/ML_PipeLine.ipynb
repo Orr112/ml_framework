{
 "cells": [
  {
   "cell_type": "code",
   "execution_count": 1,
   "id": "alike-steal",
   "metadata": {},
   "outputs": [],
   "source": [
    "import pandas as pd"
   ]
  },
  {
   "cell_type": "code",
   "execution_count": null,
   "id": "statistical-australian",
   "metadata": {},
   "outputs": [],
   "source": [
    "from sklearn.datasets import load_iris\n",
    "from sklearn.model_selection import train_test_split\n",
    "from sklearn.preprocessing import StandardScaler\n",
    "from sklearn.decomposition import PCA\n",
    "from sklearn.pipeline import Pipeline\n",
    "from sklearn.externals import joblib\n"
   ]
  },
  {
   "cell_type": "code",
   "execution_count": null,
   "id": "significant-typing",
   "metadata": {},
   "outputs": [],
   "source": [
    "from sklearn.linear_model import LogisticRegression\n",
    "from sklearn.tree import DecisionTreeClassifier\n",
    "from sklearn.ensemble import RandomForestClassifier"
   ]
  },
  {
   "cell_type": "code",
   "execution_count": null,
   "id": "ceramic-cartridge",
   "metadata": {},
   "outputs": [],
   "source": [
    "import numpy as np"
   ]
  },
  {
   "cell_type": "code",
   "execution_count": null,
   "id": "progressive-ethernet",
   "metadata": {},
   "outputs": [],
   "source": [
    "iris_df=load_iris()"
   ]
  },
  {
   "cell_type": "code",
   "execution_count": null,
   "id": "federal-sacramento",
   "metadata": {},
   "outputs": [],
   "source": [
    "iris_df.data"
   ]
  },
  {
   "cell_type": "code",
   "execution_count": null,
   "id": "equipped-interest",
   "metadata": {},
   "outputs": [],
   "source": [
    "X_train, X_test, y_train, y_test = train_test_split(iris_df.data, iris_df.target, test_size=0.3, random_state=0)"
   ]
  },
  {
   "cell_type": "code",
   "execution_count": null,
   "id": "military-correlation",
   "metadata": {},
   "outputs": [],
   "source": [
    "## Pipelines Creation\n",
    "## 1. Data Preprocessing by using Standard Scaler\n",
    "## 2. Reduce Dimension using PCA\n",
    "## 3. Apply Classifier\n"
   ]
  },
  {
   "cell_type": "code",
   "execution_count": null,
   "id": "statutory-spank",
   "metadata": {},
   "outputs": [],
   "source": [
    "pipeline_lr=Pipeline([('scalar1',StandardScaler()),\n",
    "                      ('pca1',PCA(n_components=2)),\n",
    "                      ('lr_classifier',LogisticRegression(random_state=0))])"
   ]
  },
  {
   "cell_type": "code",
   "execution_count": null,
   "id": "level-sigma",
   "metadata": {},
   "outputs": [],
   "source": [
    "pipeline_dt=Pipeline([('scalar2',StandardScaler()),\n",
    "                      ('pca2',PCA(n_components=2)),\n",
    "                      ('dt_classifier',DecisionTreeClassifier())])"
   ]
  },
  {
   "cell_type": "code",
   "execution_count": null,
   "id": "anonymous-privacy",
   "metadata": {},
   "outputs": [],
   "source": [
    "pipeline_randomforest=Pipeline([('scalar3',StandardScaler()),\n",
    "                      ('pca3',PCA(n_components=2)),\n",
    "                      ('rf_classifier',RandomForestClassifier())])"
   ]
  },
  {
   "cell_type": "code",
   "execution_count": null,
   "id": "victorian-charity",
   "metadata": {},
   "outputs": [],
   "source": [
    "pipelines = [pipeline_lr, pipeline_dt, pipeline_randomforest]"
   ]
  },
  {
   "cell_type": "code",
   "execution_count": null,
   "id": "published-hampton",
   "metadata": {},
   "outputs": [],
   "source": [
    "best_accuracy=0.0\n",
    "best_classifier=0\n",
    "best_pipeline=\"\""
   ]
  },
  {
   "cell_type": "code",
   "execution_count": null,
   "id": "heard-eating",
   "metadata": {},
   "outputs": [],
   "source": [
    "pipe_dict = {0: 'Logistic Regression', 1: 'Decision Tree', 2: 'RandomForest'}\n",
    "\n",
    "for pipe in pipelines:\n",
    "    pipe.fit(X_train, y_train)"
   ]
  },
  {
   "cell_type": "code",
   "execution_count": null,
   "id": "multiple-enlargement",
   "metadata": {},
   "outputs": [],
   "source": [
    "for i,model in enumerate(pipelines):\n",
    "    print(\"{} Test Accuracy: {}\".format(pipe_dict[i],model.score(X_test,y_test)))"
   ]
  },
  {
   "cell_type": "code",
   "execution_count": null,
   "id": "respective-playlist",
   "metadata": {},
   "outputs": [],
   "source": [
    "for i,model in enumerate(pipelines):\n",
    "    if model.score(X_test,y_test)>best_accuracy:\n",
    "        best_accuracy=model.score(X_test,y_test)\n",
    "        best_pipeline=model\n",
    "        best_classifier=i\n"
   ]
  },
  {
   "cell_type": "code",
   "execution_count": null,
   "id": "technological-brook",
   "metadata": {},
   "outputs": [],
   "source": [
    "print('Classifier with best accuracy:{}'.format(pipe_dict[best_classifier]))"
   ]
  },
  {
   "cell_type": "code",
   "execution_count": null,
   "id": "apart-capitol",
   "metadata": {},
   "outputs": [],
   "source": [
    "print(best_classifier)"
   ]
  },
  {
   "cell_type": "code",
   "execution_count": null,
   "id": "conscious-penalty",
   "metadata": {},
   "outputs": [],
   "source": [
    "from sklearn.model_selection import GridSearchCV"
   ]
  },
  {
   "cell_type": "code",
   "execution_count": null,
   "id": "sticky-python",
   "metadata": {},
   "outputs": [],
   "source": [
    "pipe = Pipeline([(\"classifier\", RandomForestClassifier())])"
   ]
  },
  {
   "cell_type": "code",
   "execution_count": null,
   "id": "hungry-anniversary",
   "metadata": {},
   "outputs": [],
   "source": [
    "grid_param = [\n",
    "        {\"classifier\": [LogisticRegression()],\n",
    "        \"classifier__penalty\": ['l2','l1'],\n",
    "         \"classifier__C\": np.logspace(0, 4, 10)\n",
    "        },\n",
    "    \n",
    "        {\"classifier\":[LogisticRegression()],\n",
    "         \"classifier__penalty\":['l2'],\n",
    "         \"classifier__C\":np.logspace(0, 4, 10),\n",
    "         \"classifier__solver\":['newton-cg','saga','sag','liblinear']\n",
    "        },\n",
    "    \n",
    "        {\"classifier\":[RandomForestClassifier()],\n",
    "         \"classifier__n_estimators\":[10, 100, 1000],\n",
    "         \"classifier__max_depth\":[5,8,15,25,30,None],\n",
    "         \"classifier__min_samples_leaf\":[1,2,5,10,15,100],\n",
    "         \"classifier__max_leaf_nodes\":[2, 5,10]\n",
    "        }\n",
    "        \n",
    "]"
   ]
  },
  {
   "cell_type": "code",
   "execution_count": null,
   "id": "generic-taiwan",
   "metadata": {},
   "outputs": [],
   "source": [
    "gridsearch = GridSearchCV(pipe, grid_param, cv=5, verbose=0, n_jobs=-1)\n",
    "best_model = gridsearch.fit(X_train,y_train)"
   ]
  },
  {
   "cell_type": "code",
   "execution_count": null,
   "id": "basic-bridge",
   "metadata": {},
   "outputs": [],
   "source": [
    "print(best_model.best_estimator_)"
   ]
  },
  {
   "cell_type": "code",
   "execution_count": null,
   "id": "multiple-sunset",
   "metadata": {},
   "outputs": [],
   "source": [
    "print(\"The mean accuracy of the model is\", best_model.score(X_test,y_test))"
   ]
  },
  {
   "cell_type": "code",
   "execution_count": null,
   "id": "young-parks",
   "metadata": {},
   "outputs": [],
   "source": [
    "import seaborn as sns\n",
    "df=sns.load_dataset('titanic')"
   ]
  },
  {
   "cell_type": "code",
   "execution_count": null,
   "id": "understanding-barcelona",
   "metadata": {},
   "outputs": [],
   "source": [
    "df.head()"
   ]
  },
  {
   "cell_type": "code",
   "execution_count": null,
   "id": "continued-titanium",
   "metadata": {},
   "outputs": [],
   "source": [
    "df.info()"
   ]
  },
  {
   "cell_type": "code",
   "execution_count": null,
   "id": "superior-blackjack",
   "metadata": {},
   "outputs": [],
   "source": [
    "df=df[['sex','embarked','alone','pclass','survived']]"
   ]
  },
  {
   "cell_type": "code",
   "execution_count": null,
   "id": "genuine-union",
   "metadata": {},
   "outputs": [],
   "source": [
    "df.head()"
   ]
  },
  {
   "cell_type": "code",
   "execution_count": null,
   "id": "ongoing-produce",
   "metadata": {},
   "outputs": [],
   "source": [
    "import numpy as np\n",
    "df['sex']=np.where(df['sex']==\"male\",1,0)"
   ]
  },
  {
   "cell_type": "code",
   "execution_count": null,
   "id": "prostate-builder",
   "metadata": {},
   "outputs": [],
   "source": [
    "ordinal_label = {k: i for i, k in enumerate(df['embarked'].unique(), 0)}"
   ]
  },
  {
   "cell_type": "code",
   "execution_count": null,
   "id": "municipal-library",
   "metadata": {},
   "outputs": [],
   "source": [
    "ordinal_label"
   ]
  },
  {
   "cell_type": "code",
   "execution_count": null,
   "id": "further-basket",
   "metadata": {},
   "outputs": [],
   "source": [
    "df['embarked'] = df['embarked'].map(ordinal_label)"
   ]
  },
  {
   "cell_type": "code",
   "execution_count": null,
   "id": "elder-transportation",
   "metadata": {},
   "outputs": [],
   "source": [
    "df.head()"
   ]
  },
  {
   "cell_type": "code",
   "execution_count": null,
   "id": "weekly-soviet",
   "metadata": {},
   "outputs": [],
   "source": [
    "df['alone']=np.where(df['alone']==True,1,0)"
   ]
  },
  {
   "cell_type": "code",
   "execution_count": null,
   "id": "compliant-tooth",
   "metadata": {},
   "outputs": [],
   "source": [
    "df.head()"
   ]
  },
  {
   "cell_type": "code",
   "execution_count": null,
   "id": "combined-impact",
   "metadata": {},
   "outputs": [],
   "source": [
    "from sklearn.model_selection import train_test_split\n",
    "X_train,X_test,y_train,y_test= train_test_split(df[['sex','embarked','alone','pclass']],\n",
    "                                               df['survived'], test_size=0.3, random_state=0)"
   ]
  },
  {
   "cell_type": "code",
   "execution_count": null,
   "id": "asian-observation",
   "metadata": {},
   "outputs": [],
   "source": [
    "X_train.head()"
   ]
  },
  {
   "cell_type": "code",
   "execution_count": null,
   "id": "historic-shopper",
   "metadata": {},
   "outputs": [],
   "source": [
    "from sklearn.feature_selection import chi2\n",
    "f_p_values =chi2(X_train,y_train)"
   ]
  },
  {
   "cell_type": "code",
   "execution_count": null,
   "id": "accessible-refrigerator",
   "metadata": {},
   "outputs": [],
   "source": []
  }
 ],
 "metadata": {
  "kernelspec": {
   "display_name": "Python 3",
   "language": "python",
   "name": "python3"
  },
  "language_info": {
   "codemirror_mode": {
    "name": "ipython",
    "version": 3
   },
   "file_extension": ".py",
   "mimetype": "text/x-python",
   "name": "python",
   "nbconvert_exporter": "python",
   "pygments_lexer": "ipython3",
   "version": "3.6.13"
  }
 },
 "nbformat": 4,
 "nbformat_minor": 5
}
